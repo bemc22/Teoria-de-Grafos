{
 "cells": [
  {
   "cell_type": "markdown",
   "metadata": {},
   "source": [
    "## MATEMÁTICAS DISCRETAS: Teoría de Grafos\n",
    "\n",
    "## Notebook 2: Minimum Spanning trees\n",
    "\n",
    "1. Determinar el arbol minimo generador (Minimum Spanning Tree - usar de referencia el archivo adjunto).\n",
    "\n",
    "### Librerias\n",
    "\n",
    "**math :** Calcular la distancia entre los nodos y realizar otras operaciones aritmeticas.\n",
    "\n",
    "**matplotlib** y **networkx :** Representar el grafo y arbol de expasión."
   ]
  },
  {
   "cell_type": "code",
   "execution_count": 1,
   "metadata": {},
   "outputs": [],
   "source": [
    "import math\n",
    "import matplotlib.pyplot as plt\n",
    "import networkx as nx"
   ]
  },
  {
   "cell_type": "markdown",
   "metadata": {},
   "source": [
    "## Clases\n",
    "\n",
    "Usaremos la clase Nodo para almacenar el nombre del vertice y su posicion en el plano cartesiano XY"
   ]
  },
  {
   "cell_type": "code",
   "execution_count": 2,
   "metadata": {},
   "outputs": [],
   "source": [
    "class Nodo:\n",
    "    def __init__(self,nombre,x,y):\n",
    "        self.nombre = nombre\n",
    "        self.x = x\n",
    "        self.y = y\n",
    "        self.adyacentes = []"
   ]
  },
  {
   "cell_type": "markdown",
   "metadata": {},
   "source": [
    "## Funciones\n",
    "\n",
    "**calcularPeso :** Usaremos esta funcón para calcular el peso de las aristas"
   ]
  },
  {
   "cell_type": "code",
   "execution_count": 3,
   "metadata": {},
   "outputs": [],
   "source": [
    "def calcularPeso(nodoA, nodoB):\n",
    "    deltaX = (nodoA.x - nodoB.x)*100\n",
    "    deltaY = (nodoA.y - nodoB.y)*100\n",
    "    distancia = math.sqrt(  pow(deltaX,2) + pow(deltaY,2)  )\n",
    "    return distancia"
   ]
  },
  {
   "cell_type": "markdown",
   "metadata": {},
   "source": [
    "**actualizar :** Usaremos esta función para actualizar la cola de priorida con la nueva distancia de un nodo especifico"
   ]
  },
  {
   "cell_type": "code",
   "execution_count": 4,
   "metadata": {},
   "outputs": [],
   "source": [
    "def actualizar(matriz,pNodo,distancia):\n",
    "    pNodos = matriz[0]\n",
    "    distancias = matriz[1]\n",
    "    for i in range(len(pNodos)):\n",
    "        temp = pNodos[i]\n",
    "        if temp == pNodo:\n",
    "            distancias[i] = distancia    "
   ]
  },
  {
   "cell_type": "markdown",
   "metadata": {},
   "source": [
    "## Estructuras de datos iniciales"
   ]
  },
  {
   "cell_type": "code",
   "execution_count": 5,
   "metadata": {},
   "outputs": [],
   "source": [
    "# Declaracion de la matriz vertices en donde se encuentran la posiciones de nuestro nodos  \n",
    "vertices = [         \n",
    "    [\"A\", 2,  1 ],\n",
    "    [\"B\", 19, 1 ],\n",
    "    [\"C\", 5,  2 ],\n",
    "    [\"D\", 11, 3 ],\n",
    "    [\"E\", 18, 5 ],\n",
    "    [\"F\", 4,  6 ],\n",
    "    [\"G\", 12, 7 ],\n",
    "    [\"H\", 20, 8 ],\n",
    "    [\"I\", 16, 10],\n",
    "    [\"J\", 10, 10],\n",
    "    [\"K\", 7,  11],\n",
    "    [\"L\", 5,  13],\n",
    "    [\"M\", 11, 13],           \n",
    "    [\"N\", 19, 14],\n",
    "    [\"O\", 16, 16],\n",
    "    [\"P\", 4,  17],\n",
    "    [\"Q\", 9,  17],\n",
    "    [\"R\", 11, 19],\n",
    "    [\"S\", 1,  20],\n",
    "    [\"T\", 20, 20] \n",
    "]\n",
    "\n",
    "# Declaracion de la matriz adyacencia en donde esta las relaciones de adyacencia de nuestros nodos\n",
    "adyacencia = [    \n",
    "    [0 , 1 , 1 , 0 , 0 , 1 , 1 , 0 , 0 , 0 , 0 , 0 , 0 , 0 , 0 , 0 , 0 , 0 , 0 , 0],\n",
    "    [1 , 0 , 0 , 1 , 1 , 0 , 1 , 1 , 0 , 0 , 0 , 0 , 0 , 0 , 0 , 0 , 0 , 0 , 0 , 0],\n",
    "    [1 , 0 , 0 , 1 , 0 , 1 , 1 , 0 , 0 , 0 , 0 , 0 , 0 , 0 , 0 , 0 , 0 , 0 , 0 , 0],\n",
    "    [0 , 1 , 1 , 0 , 1 , 1 , 1 , 1 , 0 , 1 , 1 , 0 , 0 , 0 , 0 , 0 , 0 , 0 , 0 , 0],\n",
    "    [0 , 1 , 0 , 1 , 0 , 0 , 1 , 1 , 1 , 0 , 0 , 0 , 0 , 0 , 0 , 0 , 0 , 0 , 0 , 0],\n",
    "    [1 , 0 , 1 , 1 , 0 , 0 , 0 , 0 , 0 , 0 , 1 , 1 , 0 , 0 , 0 , 0 , 0 , 0 , 1 , 0],\n",
    "    [1 , 1 , 1 , 1 , 1 , 0 , 0 , 1 , 1 , 1 , 0 , 0 , 0 , 0 , 0 , 0 , 0 , 0 , 0 , 0],\n",
    "    [0 , 1 , 0 , 1 , 1 , 0 , 1 , 0 , 1 , 0 , 0 , 0 , 0 , 0 , 0 , 0 , 0 , 0 , 0 , 0],\n",
    "    [0 , 0 , 0 , 0 , 1 , 0 , 1 , 1 , 0 , 0 , 0 , 0 , 1 , 1 , 1 , 0 , 0 , 0 , 0 , 0],\n",
    "    [0 , 0 , 0 , 1 , 0 , 0 , 1 , 0 , 0 , 0 , 1 , 0 , 1 , 1 , 1 , 0 , 1 , 0 , 0 , 0],\n",
    "    [0 , 0 , 0 , 1 , 0 , 1 , 0 , 0 , 0 , 1 , 0 , 1 , 0 , 0 , 0 , 0 , 1 , 0 , 0 , 0],\n",
    "    [0 , 0 , 0 , 0 , 0 , 1 , 0 , 0 , 0 , 0 , 1 , 0 , 1 , 0 , 1 , 1 , 1 , 0 , 0 , 0],\n",
    "    [0 , 0 , 0 , 0 , 0 , 0 , 0 , 0 , 1 , 1 , 0 , 1 , 0 , 0 , 0 , 1 , 1 , 1 , 0 , 0],\n",
    "    [0 , 0 , 0 , 0 , 0 , 0 , 0 , 0 , 1 , 1 , 0 , 0 , 0 , 0 , 1 , 0 , 0 , 0 , 0 , 1],\n",
    "    [0 , 0 , 0 , 0 , 0 , 0 , 0 , 0 , 1 , 1 , 0 , 1 , 0 , 1 , 0 , 0 , 1 , 1 , 0 , 1],\n",
    "    [0 , 0 , 0 , 0 , 0 , 0 , 0 , 0 , 0 , 0 , 0 , 1 , 1 , 0 , 0 , 0 , 1 , 0 , 1 , 0],\n",
    "    [0 , 0 , 0 , 0 , 0 , 0 , 0 , 0 , 0 , 1 , 1 , 1 , 1 , 0 , 1 , 1 , 0 , 0 , 1 , 0],\n",
    "    [0 , 0 , 0 , 0 , 0 , 0 , 0 , 0 , 0 , 0 , 0 , 0 , 1 , 0 , 1 , 0 , 0 , 0 , 1 , 1],\n",
    "    [0 , 0 , 0 , 0 , 0 , 1 , 0 , 0 , 0 , 0 , 0 , 0 , 0 , 0 , 0 , 1 , 1 , 1 , 0 , 1],\n",
    "    [0 , 0 , 0 , 0 , 0 , 0 , 0 , 0 , 0 , 0 , 0 , 0 , 0 , 1 , 1 , 0 , 0 , 1 , 1 , 0],            \n",
    "]"
   ]
  },
  {
   "cell_type": "markdown",
   "metadata": {},
   "source": [
    "## Arreglos nodos[ ] y aristas[ ]\n",
    "\n",
    "\n",
    "    nodos : Almacenan los nodos de nuestro grafo\n",
    "    aristas : Almacenan las aristas de nuestro grafo con sus respectivos pesos\n"
   ]
  },
  {
   "cell_type": "code",
   "execution_count": 6,
   "metadata": {},
   "outputs": [],
   "source": [
    "# Haciendo uso de la matriz vertices y la clase Nodo\n",
    "# Creamos un objeto Nodo el cual almacenara el nombre del vertice y sus coordenadas\n",
    "nodos = []\n",
    "for i in range(0,len(vertices)):\n",
    "    nombre = vertices[i][0]\n",
    "    x = vertices[i][1]\n",
    "    y = vertices[i][2]    \n",
    "    newNodo = Nodo(nombre,x,y)\n",
    "    nodos.append(newNodo)\n",
    "    \n",
    "# Haciendo uso de nuestro arreglo de nodos y la matriz de adyacencia\n",
    "# Agregamos las aritas de nuestro grafo a un arreglo de aristas con sus respectivos pesos\n",
    "# Simultaneamente tambien agregamos a cada objeto Nodo sus Nodos adyacentes\n",
    "aristas = []\n",
    "\n",
    "for i in range(0, 20):    \n",
    "    for j in range (0,20):\n",
    "        if i < j:\n",
    "            if(adyacencia[i][j] == 1):\n",
    "                # Aqui creamos las aristas con sus pesos\n",
    "                a = nodos[i].nombre\n",
    "                b = nodos[j].nombre                \n",
    "                c = calcularPeso(nodos[i],nodos[j])\n",
    "                c = round(c,2)\n",
    "               \n",
    "                aristas.append( [a,b,c] )   \n",
    "                \n",
    "                # Aqui agregamos los Nodos adyacentes a cada Nodo perteneciente a nuestro arreglo nodos\n",
    "                nodos[i].adyacentes.append(nodos[j])\n",
    "                nodos[j].adyacentes.append(nodos[i])"
   ]
  },
  {
   "cell_type": "markdown",
   "metadata": {},
   "source": [
    "# 2. Árbol de minima expansión\n",
    "\n",
    "Dado un grafo conexo, no dirigido G. Un árbol de expansión es un árbol compuesto por todos los vértices y algunas (posiblemente todas) de las aristas de G. Al ser creado un árbol no existirán ciclos, además debe existir una ruta entre cada par de vértices.\n",
    "\n",
    "## Algoritmo de Prim\n",
    "\n",
    "El algoritmo de Prim es un algoritmo perteneciente a la teoría de los grafos para encontrar un árbol recubridor mínimo en un grafo conexo, no dirigido y cuyas aristas están etiquetadas.\n",
    "\n",
    "### Procedimiento\n",
    "* Inicializar un árbol con un único vértice, elegido arbitrariamente del grafo.\n",
    "* Aumentar el árbol por un lado. Llamamos lado a la unión entre dos vértices: de las posibles uniones que pueden conectar el árbol a los vértices que no están aún en el árbol, encontrar el lado de menor distancia y unirlo al árbol.\n",
    "* Repetir el paso 2 (hasta que todos los vértices pertenezcan al árbol)\n",
    "\n",
    "### Implementación de Heaps"
   ]
  },
  {
   "cell_type": "code",
   "execution_count": 7,
   "metadata": {},
   "outputs": [],
   "source": [
    "def heapify(arr, n, i,index): \n",
    "    menor = i  # menor sera la raiz \n",
    "    l = 2 * i + 1     # left = 2*i + 1 \n",
    "    r = 2 * i + 2     # right = 2*i + 2 \n",
    "  \n",
    "    # Vemos si el hijo de la izquierda de la raiz existe,\n",
    "    # y si es mayor que la raiz\n",
    "    if l < n and arr[i] < arr[l]: \n",
    "        menor = l \n",
    "  \n",
    "    # Vemos si el hijo de la dereacha de la raiz existe\n",
    "    # y si es mayor que la raiz\n",
    "    if r < n and arr[menor] < arr[r]: \n",
    "        menor = r \n",
    "  \n",
    "    # Si la raiz no es la menor entramos\n",
    "    if menor != i: \n",
    "        arr[i],arr[menor] = arr[menor],arr[i]  # Intercambiamos \n",
    "        index[i],index[menor] = index[menor],index[i]\n",
    "        \n",
    "  \n",
    "        # Heapify en la raiz\n",
    "        heapify(arr, n, menor,index) \n",
    "\n",
    "# Funcion principal\n",
    "def heapSort(arr,index): \n",
    "    n = len(arr)   \n",
    "    # Construimos el minHeap\n",
    "    for i in range(n, -1, -1): \n",
    "        heapify(arr, n, i,index) \n",
    "\n",
    "    # Uno por uno extraemos elementos\n",
    "    for i in range(n-1, 0, -1): \n",
    "        arr[i], arr[0] = arr[0], arr[i]   # Intercambiamos      \n",
    "        index[i],index[0] = index[0],index[i]\n",
    "        heapify(arr, i, 0,index) "
   ]
  },
  {
   "cell_type": "markdown",
   "metadata": {},
   "source": [
    "## Implementación Prim"
   ]
  },
  {
   "cell_type": "code",
   "execution_count": 8,
   "metadata": {},
   "outputs": [],
   "source": [
    "def Prim(grafo, sNode):\n",
    "    infinito = float(\"inf\")    \n",
    "    distancia = {}   # Almacena la distancia del nodo raiz a cada nodo en numero de aristas\n",
    "    padre = {}       # Almacena el nodo padre de cada nodo\n",
    "    adyacencia = []  # Almacena los nodos adyacentes del nodo iterado\n",
    "    cola = [[],[]]   # Esta sera nuestra cola de prioridad\n",
    "    \n",
    "    for uNode in grafo:\n",
    "        # Inicializamos todas las distancias de los nodos en infinito\n",
    "        # Excepto la distancia de nuestro nodo raiz\n",
    "        # El nodo raiz puede ser escojido arbitrariamente\n",
    "        if sNode == uNode:\n",
    "            distancia[uNode] = 0\n",
    "        else:\n",
    "            distancia[uNode] = infinito\n",
    "            \n",
    "        # Inicializamos todos los padres de los nodos en None    \n",
    "        padre[uNode] = None\n",
    "        # Agregamos todos los nodos de nuestro grafo y sus respectivas distancias\n",
    "        # a nuestra cola de prioridad\n",
    "        cola[0].append(uNode)            \n",
    "        cola[1].append(distancia[uNode])\n",
    "    \n",
    "    # Ordenamos la cola de prioridad\n",
    "    heapSort(cola[1],cola[0])\n",
    "    \n",
    "    # El bucle se ejecutara hasta que la cola quede vacia\n",
    "    while cola[0]:\n",
    "        # Extraemos el nodo con la menor distancia de la cola\n",
    "        # Ya que la cola de prioridad esta ordenada de menor a mayor\n",
    "        # el menor siempre sera el primer elemento\n",
    "        uNode = cola[0].pop(0)\n",
    "        borrar = cola[1].pop(0)\n",
    "        \n",
    "        # Agregamos al arreglo adyacencia\n",
    "        # los nodos adyacentes de uNode\n",
    "        adyacencia = grafo[uNode] \n",
    "        # Recorremos todos los nodos adyacentes de uNode\n",
    "        for vNode in adyacencia:\n",
    "            # Calculamos el peso entre vNode y uNode\n",
    "            peso = calcularPeso(vNode,uNode)\n",
    "            # Si vNode esta en nuestra cola y si la distancia \n",
    "            # que almacena en el diccionario distancia es mayor\n",
    "            # a la distancia entre este nodo (vNode) y uNode\n",
    "            # entramos\n",
    "            if (vNode in cola[0]) and (distancia[vNode] > peso ):\n",
    "                # Asignamos el padre de vNode como uNode\n",
    "                padre[vNode] = uNode \n",
    "                # Actualziamos la distancia\n",
    "                distancia[vNode] = peso\n",
    "                # Actualizamos la distancia en la cola de prioridad\n",
    "                actualizar(cola,vNode,distancia[vNode])\n",
    "                # Ordenamos la cola de prioridad\n",
    "                heapSort(cola[1],cola[0])    \n",
    "        \n",
    "    return padre"
   ]
  },
  {
   "cell_type": "markdown",
   "metadata": {},
   "source": [
    "**Creacion de nuestro diccionario grafo**\n",
    "\n",
    "A diferencia del diccionario **grafo** implementado en ***notebook1.ipynb*** en esta notebook almacenaremos los indice e items del diccionario como objetos *Nodo* en vez de simplemente sus etiquetas, decidimos realizar este cambio debido a que la funcion **Prim** llama al metodo **calcularPeso()** y este recibe como parametros dos objetos de tipo Nodo."
   ]
  },
  {
   "cell_type": "code",
   "execution_count": 9,
   "metadata": {},
   "outputs": [],
   "source": [
    "grafo = {} \n",
    "for node in nodos:\n",
    "    adyacentesNombre = []\n",
    "    for iNode in node.adyacentes:\n",
    "        adyacentesNombre.append(iNode)\n",
    "        \n",
    "    grafo[node] = adyacentesNombre   "
   ]
  },
  {
   "cell_type": "markdown",
   "metadata": {},
   "source": [
    "### Ejecución de Prim"
   ]
  },
  {
   "cell_type": "code",
   "execution_count": 10,
   "metadata": {},
   "outputs": [],
   "source": [
    "prim = Prim(grafo,nodos[12])"
   ]
  },
  {
   "cell_type": "markdown",
   "metadata": {},
   "source": [
    "### Estructuras de datos para representar nuestras rutas\n",
    "Antes de iniciar la representación de nuestro arbol, transcribimos la informacion obtenida de nuestra función *Prim* de tal forma que el grafo implementado por la libreria *nx* pueda entenderlo"
   ]
  },
  {
   "cell_type": "code",
   "execution_count": 11,
   "metadata": {},
   "outputs": [],
   "source": [
    "# Aqui guardamos las rutas como aristas de un nuevo grafo\n",
    "caminos = {} \n",
    "for x in prim:\n",
    "    s = x.nombre\n",
    "    y = prim[x]\n",
    "    # Si este indice no tiene items significa que es el nodo Raiz \n",
    "    # Ya que el nodo Raiz es el padre de todos los nodos y no tiene padre \n",
    "    if y != None:         \n",
    "        caminos[s] = y.nombre    \n",
    "        \n",
    "# Crearemos un diccionario que relacione las etiquetas de los nodos con el respectivo nodo\n",
    "# Esto nos facilitara las asignaciones a la hora de agregar las aristas al grafo\n",
    "jnodos = {}\n",
    "for x in nodos:\n",
    "    a = x.nombre\n",
    "    jnodos[a] = x"
   ]
  },
  {
   "cell_type": "markdown",
   "metadata": {},
   "source": [
    "### Representación del  Minimum Spanning tree\n",
    "\n",
    "De forma similar a la representación de nuestro grafo original presentado en ***notebook1.ipynb*** realizaremos ahora la representación de nuestro arbol de minima expansion, solo que ahora usaremos los dicionarios *prim* para asignar las aristas de nuestro arbol, debido a que usaremos las mismas coordenadas crearemos un diccionario *dict* igual al usado en ***notebook1.ipynb***.\n",
    "\n",
    "En este caso podemos dividir la representacion en la siguientes partes:\n",
    "1. Asignación\n",
    "2. Dibujado\n",
    "\n",
    "    **Asignación**\n",
    "    * Creamos un nuevo grafo $G$ usando la libreria *nx*\n",
    "    * Agregamos las aristas almacenadas en el diccionario *prim*\n",
    "    \n",
    "   **Dibujado**\n",
    "    * Ajustar el tamaño del canvas\n",
    "    * Dibujar nodos\n",
    "    * Dibujar aristas\n",
    "    * Dibujar etiquetas de los nodos\n",
    "    * Mostrar el arbol"
   ]
  },
  {
   "cell_type": "markdown",
   "metadata": {},
   "source": [
    "### Asignación"
   ]
  },
  {
   "cell_type": "code",
   "execution_count": 12,
   "metadata": {},
   "outputs": [],
   "source": [
    "F = nx.Graph()\n",
    "\n",
    "for x in caminos:\n",
    "    # Accedemos al nodo que hace referencia cada vertice de la arista\n",
    "    # Con el fin de calcular la distancia entre estas\n",
    "    a = jnodos[caminos[x]]\n",
    "    b = jnodos[x]\n",
    "    c = calcularPeso(a,b)\n",
    "    c = round(c,2)\n",
    "    F.add_edge(caminos[x],x, weight = c)\n",
    "\n",
    "# Diccionario con las posiciones de todos los nodos\n",
    "dict = {}\n",
    "for nodo in vertices:\n",
    "    nombre = nodo[0]\n",
    "    xPos = nodo[1]\n",
    "    yPos = nodo[2]\n",
    "    dict[nombre] = (xPos,yPos)    \n",
    "pos = dict  "
   ]
  },
  {
   "cell_type": "markdown",
   "metadata": {},
   "source": [
    "### Dibujado"
   ]
  },
  {
   "cell_type": "code",
   "execution_count": 13,
   "metadata": {},
   "outputs": [
    {
     "data": {
      "image/png": "[encoded data removed]",
      "text/plain": [
       "<Figure size 1080x1080 with 1 Axes>"
      ]
     },
     "metadata": {},
     "output_type": "display_data"
    }
   ],
   "source": [
    "# Tamaño del Canvas\n",
    "plt.figure(figsize = (15,15))\n",
    "\n",
    "# Se dibujan los nodos\n",
    "val_map = {'J': (1,0.2,0.2)}\n",
    "values = [ val_map.get(node , (0, 0.6, 1)) for node in F.nodes()]\n",
    "nx.draw_networkx_nodes(F, pos, node_size=700,node_color = values)\n",
    "\n",
    "# Se dibujan las aristas\n",
    "\n",
    "nx.draw_networkx_edges(F, pos, width=1)\n",
    "\n",
    "# Se dibujan los nombres de los nodos y el peso de las aristas\n",
    "nx.draw_networkx_labels(F, pos, font_size=15, font_family='sans-serif')\n",
    "edge_labels = nx.get_edge_attributes(F,'weight')\n",
    "nx.draw_networkx_edge_labels(F,pos, edge_labels = edge_labels)\n",
    "\n",
    "plt.axis(\"off\")  # Con esta linea ocultamos los ejes de coordenadas\n",
    "plt.show()       # Mostramos todas las llaadas de dibujado realizadas anteriormente"
   ]
  },
  {
   "cell_type": "markdown",
   "metadata": {},
   "source": [
    "*Matematicas Discretas - Universidad Industrial de Santander*\n",
    "\n",
    "* *Brayan Esneider Monroy Chaparro*\n",
    "* *Juan Jose*\n",
    "* *Sebastian Leon*"
   ]
  },
  {
   "cell_type": "code",
   "execution_count": null,
   "metadata": {},
   "outputs": [],
   "source": []
  },
  {
   "cell_type": "code",
   "execution_count": null,
   "metadata": {},
   "outputs": [],
   "source": []
  }
 ],
 "metadata": {
  "kernelspec": {
   "display_name": "Python 3",
   "language": "python",
   "name": "python3"
  },
  "language_info": {
   "codemirror_mode": {
    "name": "ipython",
    "version": 3
   },
   "file_extension": ".py",
   "mimetype": "text/x-python",
   "name": "python",
   "nbconvert_exporter": "python",
   "pygments_lexer": "ipython3",
   "version": "3.6.5"
  }
 },
 "nbformat": 4,
 "nbformat_minor": 2
}
